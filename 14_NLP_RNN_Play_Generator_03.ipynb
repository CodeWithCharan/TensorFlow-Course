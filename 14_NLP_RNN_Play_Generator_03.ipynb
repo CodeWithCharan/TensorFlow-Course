{
  "nbformat": 4,
  "nbformat_minor": 0,
  "metadata": {
    "colab": {
      "provenance": [],
      "gpuType": "T4"
    },
    "kernelspec": {
      "name": "python3",
      "display_name": "Python 3"
    },
    "language_info": {
      "name": "python"
    },
    "accelerator": "GPU"
  },
  "cells": [
    {
      "cell_type": "markdown",
      "source": [
        "## RNN Play Generator\n",
        "\n",
        "Now time for one of the coolest examples we've seen so far. We are going to use a RNN to generate a play. We will simply show the RNN an example of something we want it to recreate and it will learn how to write a version of it on its own. We'll do this using a **Character predictive model** that will take as input and predict the next character. We can use the model many times in a row with the output from the last predicition as the input for the next step to generate a sequence - just like a play!"
      ],
      "metadata": {
        "id": "KDZffl7i01je"
      }
    },
    {
      "cell_type": "code",
      "source": [
        "%tensorflow_version 2.x  # this line is not required unless you are in a notebook\n",
        "from keras.preprocessing import sequence\n",
        "import keras\n",
        "import tensorflow as tf\n",
        "import os\n",
        "import numpy as np"
      ],
      "metadata": {
        "colab": {
          "base_uri": "https://localhost:8080/"
        },
        "id": "i-hkS3UP1G70",
        "outputId": "a01e3d12-2a94-487c-effd-32e32d1596a0"
      },
      "execution_count": 1,
      "outputs": [
        {
          "output_type": "stream",
          "name": "stdout",
          "text": [
            "Colab only includes TensorFlow 2.x; %tensorflow_version has no effect.\n"
          ]
        }
      ]
    },
    {
      "cell_type": "markdown",
      "source": [
        "### Dataset\n",
        "For this example, we only need one peice of training data. In fact, we can write our own poem or play and pass that to the network for training if we'd like. However, to make things easy we'll use an extract from a shakesphere play.\n",
        "\n",
        "\n"
      ],
      "metadata": {
        "id": "6q4uEg9a3F1s"
      }
    },
    {
      "cell_type": "code",
      "source": [
        "path_to_file = tf.keras.utils.get_file('shakespeare.txt', 'https://storage.googleapis.com/download.tensorflow.org/data/shakespeare.txt')"
      ],
      "metadata": {
        "colab": {
          "base_uri": "https://localhost:8080/"
        },
        "id": "DktdqR233cI0",
        "outputId": "36d73cef-5809-42c0-fd0f-d153564a5ee2"
      },
      "execution_count": 2,
      "outputs": [
        {
          "output_type": "stream",
          "name": "stdout",
          "text": [
            "Downloading data from https://storage.googleapis.com/download.tensorflow.org/data/shakespeare.txt\n",
            "1115394/1115394 [==============================] - 0s 0us/step\n"
          ]
        }
      ]
    },
    {
      "cell_type": "markdown",
      "source": [
        "###Read Contents of File\n",
        "Let's look at the contents of the file."
      ],
      "metadata": {
        "id": "aGjmB-t83lkP"
      }
    },
    {
      "cell_type": "code",
      "source": [
        "# Read, then decode for py2 compat.\n",
        "text = open(path_to_file, 'rb').read().decode(encoding='utf-8')\n",
        "# length of text is the number of characters in it\n",
        "print ('Length of text: {} characters'.format(len(text)))"
      ],
      "metadata": {
        "colab": {
          "base_uri": "https://localhost:8080/"
        },
        "id": "SDAAGSe23ypF",
        "outputId": "431b3aa1-688f-45d3-a5d2-6e05721c7a24"
      },
      "execution_count": 3,
      "outputs": [
        {
          "output_type": "stream",
          "name": "stdout",
          "text": [
            "Length of text: 1115394 characters\n"
          ]
        }
      ]
    },
    {
      "cell_type": "code",
      "source": [
        "# Take a look at the first 250 characters in text\n",
        "print(text[:250])"
      ],
      "metadata": {
        "colab": {
          "base_uri": "https://localhost:8080/"
        },
        "id": "SDyMtTuR32Li",
        "outputId": "bdedeb5a-f16a-4069-eb41-b0426a07b54c"
      },
      "execution_count": 4,
      "outputs": [
        {
          "output_type": "stream",
          "name": "stdout",
          "text": [
            "First Citizen:\n",
            "Before we proceed any further, hear me speak.\n",
            "\n",
            "All:\n",
            "Speak, speak.\n",
            "\n",
            "First Citizen:\n",
            "You are all resolved rather to die than to famish?\n",
            "\n",
            "All:\n",
            "Resolved. resolved.\n",
            "\n",
            "First Citizen:\n",
            "First, you know Caius Marcius is chief enemy to the people.\n",
            "\n"
          ]
        }
      ]
    },
    {
      "cell_type": "markdown",
      "source": [
        "###Encoding\n",
        "Since this text isn't encoded yet well need to do that ourselves. We are going to encode each unique character as a different integer.\n",
        "\n"
      ],
      "metadata": {
        "id": "L7SjishR35Gk"
      }
    },
    {
      "cell_type": "code",
      "source": [
        "vocab = sorted(set(text))\n",
        "# Creating a mapping from unique characters to indices\n",
        "char2idx = {u:i for i, u in enumerate(vocab)}\n",
        "idx2char = np.array(vocab)\n",
        "\n",
        "def text_to_int(text):\n",
        "  return np.array([char2idx[c] for c in text])\n",
        "\n",
        "text_as_int = text_to_int(text)"
      ],
      "metadata": {
        "id": "GjdCPgQ54E8w"
      },
      "execution_count": 5,
      "outputs": []
    },
    {
      "cell_type": "code",
      "source": [
        "# lets look at how part of our text is encoded\n",
        "print(\"Text:\", text[:13])\n",
        "print(\"Encoded:\", text_to_int(text[:13]))"
      ],
      "metadata": {
        "colab": {
          "base_uri": "https://localhost:8080/"
        },
        "id": "akgHf4i14K25",
        "outputId": "0c5537d4-e8f2-4506-dc78-a463b73362ee"
      },
      "execution_count": 6,
      "outputs": [
        {
          "output_type": "stream",
          "name": "stdout",
          "text": [
            "Text: First Citizen\n",
            "Encoded: [18 47 56 57 58  1 15 47 58 47 64 43 52]\n"
          ]
        }
      ]
    },
    {
      "cell_type": "markdown",
      "source": [
        "And here we will make a function that can convert our numeric values to text."
      ],
      "metadata": {
        "id": "W4A39Plb4Nm0"
      }
    },
    {
      "cell_type": "code",
      "source": [
        "def int_to_text(ints):\n",
        "  try:\n",
        "    ints = ints.numpy()\n",
        "  except:\n",
        "    pass\n",
        "  return ''.join(idx2char[ints])\n",
        "\n",
        "print(int_to_text(text_as_int[:13]))"
      ],
      "metadata": {
        "colab": {
          "base_uri": "https://localhost:8080/"
        },
        "id": "1ePF39jl4VkE",
        "outputId": "cf20b5ee-cbeb-4536-e45e-abeedd47bb0c"
      },
      "execution_count": 7,
      "outputs": [
        {
          "output_type": "stream",
          "name": "stdout",
          "text": [
            "First Citizen\n"
          ]
        }
      ]
    },
    {
      "cell_type": "markdown",
      "source": [
        "### Creating Training Examples\n",
        "Remember our task is to feed the model a sequence and have it return to us the next character. This means we need to split our text data from above into many shorter sequences that we can pass to the model as training examples.\n",
        "\n",
        "The training examples we will prepapre will use a *seq_length* sequence as input and a *seq_length* sequence as the output where that sequence is the original sequence shifted one letter to the right. For example:\n",
        "\n",
        "```input: Hell | output: ello```\n",
        "\n",
        "Our first step will be to create a stream of characters from our text data."
      ],
      "metadata": {
        "id": "u9ujZ3Ke4a9p"
      }
    },
    {
      "cell_type": "code",
      "source": [
        "seq_length = 100  # length of sequence for a training example\n",
        "examples_per_epoch = len(text)//(seq_length+1)\n",
        "\n",
        "# Create training examples / targets\n",
        "char_dataset = tf.data.Dataset.from_tensor_slices(text_as_int)"
      ],
      "metadata": {
        "id": "b9ScCWhy4ufH"
      },
      "execution_count": 8,
      "outputs": []
    },
    {
      "cell_type": "markdown",
      "source": [
        "Next we can use the batch method to turn this stream of characters into batches of desired length."
      ],
      "metadata": {
        "id": "vqukPH134vL8"
      }
    },
    {
      "cell_type": "code",
      "source": [
        "sequences = char_dataset.batch(seq_length+1, drop_remainder=True)"
      ],
      "metadata": {
        "id": "Ro_xIzyU42TP"
      },
      "execution_count": 9,
      "outputs": []
    },
    {
      "cell_type": "markdown",
      "source": [
        "Now we need to use these sequences of length 101 and split them into input and output."
      ],
      "metadata": {
        "id": "PxuAFuBf44fl"
      }
    },
    {
      "cell_type": "code",
      "source": [
        "def split_input_target(chunk):  # for the example: hello\n",
        "    input_text = chunk[:-1]  # hell\n",
        "    target_text = chunk[1:]  # ello\n",
        "    return input_text, target_text  # hell, ello\n",
        "\n",
        "dataset = sequences.map(split_input_target)  # we use map to apply the above function to every entry"
      ],
      "metadata": {
        "id": "iqrtzDmg49dY"
      },
      "execution_count": 10,
      "outputs": []
    },
    {
      "cell_type": "code",
      "source": [
        "for x, y in dataset.take(2):\n",
        "  print(\"\\n\\nEXAMPLE\\n\")\n",
        "  print(\"INPUT\")\n",
        "  print(int_to_text(x))\n",
        "  print(\"\\nOUTPUT\")\n",
        "  print(int_to_text(y))"
      ],
      "metadata": {
        "colab": {
          "base_uri": "https://localhost:8080/"
        },
        "id": "bfYHbLlQ5CG1",
        "outputId": "8981ce77-3e67-4a2b-9396-4368ded53390"
      },
      "execution_count": 11,
      "outputs": [
        {
          "output_type": "stream",
          "name": "stdout",
          "text": [
            "\n",
            "\n",
            "EXAMPLE\n",
            "\n",
            "INPUT\n",
            "First Citizen:\n",
            "Before we proceed any further, hear me speak.\n",
            "\n",
            "All:\n",
            "Speak, speak.\n",
            "\n",
            "First Citizen:\n",
            "You\n",
            "\n",
            "OUTPUT\n",
            "irst Citizen:\n",
            "Before we proceed any further, hear me speak.\n",
            "\n",
            "All:\n",
            "Speak, speak.\n",
            "\n",
            "First Citizen:\n",
            "You \n",
            "\n",
            "\n",
            "EXAMPLE\n",
            "\n",
            "INPUT\n",
            "are all resolved rather to die than to famish?\n",
            "\n",
            "All:\n",
            "Resolved. resolved.\n",
            "\n",
            "First Citizen:\n",
            "First, you \n",
            "\n",
            "OUTPUT\n",
            "re all resolved rather to die than to famish?\n",
            "\n",
            "All:\n",
            "Resolved. resolved.\n",
            "\n",
            "First Citizen:\n",
            "First, you k\n"
          ]
        }
      ]
    },
    {
      "cell_type": "markdown",
      "source": [
        "Finally we need to make training batches."
      ],
      "metadata": {
        "id": "7FYLHwwj5Eb7"
      }
    },
    {
      "cell_type": "code",
      "source": [
        "BATCH_SIZE = 64\n",
        "VOCAB_SIZE = len(vocab)  # vocab is number of unique characters\n",
        "EMBEDDING_DIM = 256\n",
        "RNN_UNITS = 1024\n",
        "\n",
        "# Buffer size to shuffle the dataset\n",
        "# (TF data is designed to work with possibly infinite sequences,\n",
        "# so it doesn't attempt to shuffle the entire sequence in memory. Instead,\n",
        "# it maintains a buffer in which it shuffles elements).\n",
        "BUFFER_SIZE = 10000\n",
        "\n",
        "data = dataset.shuffle(BUFFER_SIZE).batch(BATCH_SIZE, drop_remainder=True)"
      ],
      "metadata": {
        "id": "WrhddYoH5Rpl"
      },
      "execution_count": 12,
      "outputs": []
    },
    {
      "cell_type": "markdown",
      "source": [
        "### Building the Model\n",
        "Now it is time to build the model. We will use an embedding layer a LSTM and one dense layer that contains a node for each unique character in our training data. The dense layer will give us a probability distribution over all nodes."
      ],
      "metadata": {
        "id": "hTmy_kKa5Yug"
      }
    },
    {
      "cell_type": "code",
      "source": [
        "def build_model(vocab_size, embedding_dim, rnn_units, batch_size):\n",
        "  model = tf.keras.Sequential([\n",
        "    tf.keras.layers.Embedding(vocab_size, embedding_dim,\n",
        "                              batch_input_shape=[batch_size, None]),\n",
        "    tf.keras.layers.LSTM(rnn_units,\n",
        "                        return_sequences=True,\n",
        "                        stateful=True,\n",
        "                        recurrent_initializer='glorot_uniform'),\n",
        "    tf.keras.layers.Dense(vocab_size)\n",
        "  ])\n",
        "  return model\n",
        "\n",
        "model = build_model(VOCAB_SIZE,EMBEDDING_DIM, RNN_UNITS, BATCH_SIZE)\n",
        "model.summary()"
      ],
      "metadata": {
        "colab": {
          "base_uri": "https://localhost:8080/"
        },
        "id": "FN0F59zt5fGb",
        "outputId": "50dd8e50-0663-4410-abae-6e881d735e08"
      },
      "execution_count": 13,
      "outputs": [
        {
          "output_type": "stream",
          "name": "stdout",
          "text": [
            "Model: \"sequential\"\n",
            "_________________________________________________________________\n",
            " Layer (type)                Output Shape              Param #   \n",
            "=================================================================\n",
            " embedding (Embedding)       (64, None, 256)           16640     \n",
            "                                                                 \n",
            " lstm (LSTM)                 (64, None, 1024)          5246976   \n",
            "                                                                 \n",
            " dense (Dense)               (64, None, 65)            66625     \n",
            "                                                                 \n",
            "=================================================================\n",
            "Total params: 5,330,241\n",
            "Trainable params: 5,330,241\n",
            "Non-trainable params: 0\n",
            "_________________________________________________________________\n"
          ]
        }
      ]
    },
    {
      "cell_type": "markdown",
      "source": [
        "### Creating a Loss Function\n",
        "Now we are going to create our own loss function for this problem. This is because our model will output a (64, sequence_length, 65) shaped tensor that represents the probability distribution of each character at each timestep for every sequence in the batch."
      ],
      "metadata": {
        "id": "RK7rsGhB5mz8"
      }
    },
    {
      "cell_type": "markdown",
      "source": [
        "So now we need to create a loss function that can compare that output to the expected output and give us some numeric value representing how close the two were."
      ],
      "metadata": {
        "id": "H4ZhGNun52Jl"
      }
    },
    {
      "cell_type": "code",
      "source": [
        "def loss(labels, logits):\n",
        "  return tf.keras.losses.sparse_categorical_crossentropy(labels, logits, from_logits=True)"
      ],
      "metadata": {
        "id": "Z7Bn29EU6HeK"
      },
      "execution_count": 14,
      "outputs": []
    },
    {
      "cell_type": "markdown",
      "source": [
        "### Compiling the Model\n",
        "At this point we can think of our problem as a classification problem where the model predicts the probabillity of each unique letter coming next.\n"
      ],
      "metadata": {
        "id": "I65qy4Bz6mqK"
      }
    },
    {
      "cell_type": "code",
      "source": [
        "model.compile(optimizer='adam', loss=loss)"
      ],
      "metadata": {
        "id": "WQF-4b646tz3"
      },
      "execution_count": 15,
      "outputs": []
    },
    {
      "cell_type": "markdown",
      "source": [
        "### Creating Checkpoints\n",
        "Now we are going to setup and configure our model to save checkpoinst as it trains. This will allow us to load our model from a checkpoint and continue training it."
      ],
      "metadata": {
        "id": "Cog0z5MD6v9j"
      }
    },
    {
      "cell_type": "code",
      "source": [
        "# Directory where the checkpoints will be saved\n",
        "checkpoint_dir = './training_checkpoints'\n",
        "# Name of the checkpoint files\n",
        "checkpoint_prefix = os.path.join(checkpoint_dir, \"ckpt_{epoch}\")\n",
        "\n",
        "checkpoint_callback=tf.keras.callbacks.ModelCheckpoint(\n",
        "    filepath=checkpoint_prefix,\n",
        "    save_weights_only=True)"
      ],
      "metadata": {
        "id": "7ZlJn30Y63y0"
      },
      "execution_count": 16,
      "outputs": []
    },
    {
      "cell_type": "markdown",
      "source": [
        "### Training\n",
        "Finally, we will start training the model."
      ],
      "metadata": {
        "id": "UPMy0zcG67I2"
      }
    },
    {
      "cell_type": "code",
      "source": [
        "history = model.fit(data, epochs=50, callbacks=[checkpoint_callback])"
      ],
      "metadata": {
        "colab": {
          "base_uri": "https://localhost:8080/"
        },
        "id": "LMNmamYV7H8j",
        "outputId": "33668121-1a9e-42f3-f621-8d3d37a1b2d3"
      },
      "execution_count": 17,
      "outputs": [
        {
          "output_type": "stream",
          "name": "stdout",
          "text": [
            "Epoch 1/50\n",
            "172/172 [==============================] - 22s 68ms/step - loss: 2.5933\n",
            "Epoch 2/50\n",
            "172/172 [==============================] - 13s 62ms/step - loss: 1.8807\n",
            "Epoch 3/50\n",
            "172/172 [==============================] - 13s 62ms/step - loss: 1.6351\n",
            "Epoch 4/50\n",
            "172/172 [==============================] - 13s 63ms/step - loss: 1.5054\n",
            "Epoch 5/50\n",
            "172/172 [==============================] - 13s 66ms/step - loss: 1.4276\n",
            "Epoch 6/50\n",
            "172/172 [==============================] - 13s 66ms/step - loss: 1.3714\n",
            "Epoch 7/50\n",
            "172/172 [==============================] - 14s 68ms/step - loss: 1.3275\n",
            "Epoch 8/50\n",
            "172/172 [==============================] - 15s 69ms/step - loss: 1.2887\n",
            "Epoch 9/50\n",
            "172/172 [==============================] - 14s 71ms/step - loss: 1.2540\n",
            "Epoch 10/50\n",
            "172/172 [==============================] - 14s 73ms/step - loss: 1.2194\n",
            "Epoch 11/50\n",
            "172/172 [==============================] - 14s 71ms/step - loss: 1.1855\n",
            "Epoch 12/50\n",
            "172/172 [==============================] - 14s 72ms/step - loss: 1.1515\n",
            "Epoch 13/50\n",
            "172/172 [==============================] - 14s 71ms/step - loss: 1.1140\n",
            "Epoch 14/50\n",
            "172/172 [==============================] - 14s 70ms/step - loss: 1.0773\n",
            "Epoch 15/50\n",
            "172/172 [==============================] - 14s 73ms/step - loss: 1.0394\n",
            "Epoch 16/50\n",
            "172/172 [==============================] - 14s 71ms/step - loss: 0.9988\n",
            "Epoch 17/50\n",
            "172/172 [==============================] - 14s 72ms/step - loss: 0.9595\n",
            "Epoch 18/50\n",
            "172/172 [==============================] - 14s 70ms/step - loss: 0.9200\n",
            "Epoch 19/50\n",
            "172/172 [==============================] - 14s 71ms/step - loss: 0.8809\n",
            "Epoch 20/50\n",
            "172/172 [==============================] - 14s 72ms/step - loss: 0.8430\n",
            "Epoch 21/50\n",
            "172/172 [==============================] - 14s 71ms/step - loss: 0.8047\n",
            "Epoch 22/50\n",
            "172/172 [==============================] - 14s 70ms/step - loss: 0.7708\n",
            "Epoch 23/50\n",
            "172/172 [==============================] - 14s 72ms/step - loss: 0.7374\n",
            "Epoch 24/50\n",
            "172/172 [==============================] - 15s 72ms/step - loss: 0.7086\n",
            "Epoch 25/50\n",
            "172/172 [==============================] - 14s 70ms/step - loss: 0.6809\n",
            "Epoch 26/50\n",
            "172/172 [==============================] - 14s 71ms/step - loss: 0.6563\n",
            "Epoch 27/50\n",
            "172/172 [==============================] - 14s 73ms/step - loss: 0.6326\n",
            "Epoch 28/50\n",
            "172/172 [==============================] - 14s 71ms/step - loss: 0.6114\n",
            "Epoch 29/50\n",
            "172/172 [==============================] - 14s 72ms/step - loss: 0.5948\n",
            "Epoch 30/50\n",
            "172/172 [==============================] - 14s 71ms/step - loss: 0.5772\n",
            "Epoch 31/50\n",
            "172/172 [==============================] - 14s 71ms/step - loss: 0.5603\n",
            "Epoch 32/50\n",
            "172/172 [==============================] - 14s 71ms/step - loss: 0.5468\n",
            "Epoch 33/50\n",
            "172/172 [==============================] - 15s 71ms/step - loss: 0.5333\n",
            "Epoch 34/50\n",
            "172/172 [==============================] - 15s 71ms/step - loss: 0.5223\n",
            "Epoch 35/50\n",
            "172/172 [==============================] - 14s 71ms/step - loss: 0.5109\n",
            "Epoch 36/50\n",
            "172/172 [==============================] - 14s 71ms/step - loss: 0.5004\n",
            "Epoch 37/50\n",
            "172/172 [==============================] - 14s 70ms/step - loss: 0.4941\n",
            "Epoch 38/50\n",
            "172/172 [==============================] - 14s 72ms/step - loss: 0.4855\n",
            "Epoch 39/50\n",
            "172/172 [==============================] - 14s 72ms/step - loss: 0.4777\n",
            "Epoch 40/50\n",
            "172/172 [==============================] - 14s 71ms/step - loss: 0.4730\n",
            "Epoch 41/50\n",
            "172/172 [==============================] - 15s 71ms/step - loss: 0.4656\n",
            "Epoch 42/50\n",
            "172/172 [==============================] - 14s 70ms/step - loss: 0.4617\n",
            "Epoch 43/50\n",
            "172/172 [==============================] - 14s 72ms/step - loss: 0.4556\n",
            "Epoch 44/50\n",
            "172/172 [==============================] - 14s 73ms/step - loss: 0.4515\n",
            "Epoch 45/50\n",
            "172/172 [==============================] - 14s 73ms/step - loss: 0.4475\n",
            "Epoch 46/50\n",
            "172/172 [==============================] - 14s 71ms/step - loss: 0.4414\n",
            "Epoch 47/50\n",
            "172/172 [==============================] - 14s 71ms/step - loss: 0.4409\n",
            "Epoch 48/50\n",
            "172/172 [==============================] - 14s 71ms/step - loss: 0.4364\n",
            "Epoch 49/50\n",
            "172/172 [==============================] - 14s 70ms/step - loss: 0.4330\n",
            "Epoch 50/50\n",
            "172/172 [==============================] - 14s 72ms/step - loss: 0.4303\n"
          ]
        }
      ]
    },
    {
      "cell_type": "markdown",
      "source": [
        "### Loading the Model\n",
        "We'll rebuild the model from a checkpoint using a batch_size of 1 so that we can feed one peice of text to the model and have it make a prediction."
      ],
      "metadata": {
        "id": "2YMAqNva7KIv"
      }
    },
    {
      "cell_type": "code",
      "source": [
        "model = build_model(VOCAB_SIZE, EMBEDDING_DIM, RNN_UNITS, batch_size=1)"
      ],
      "metadata": {
        "id": "4spOoiFxBT1H"
      },
      "execution_count": 18,
      "outputs": []
    },
    {
      "cell_type": "markdown",
      "source": [
        "Once the model is finished training, we can find the lastest checkpoint that stores the models weights using the following line."
      ],
      "metadata": {
        "id": "bffGcxkyBWTa"
      }
    },
    {
      "cell_type": "code",
      "source": [
        "model.load_weights(tf.train.latest_checkpoint(checkpoint_dir))\n",
        "model.build(tf.TensorShape([1, None]))"
      ],
      "metadata": {
        "id": "EpF3ST5ABoz_"
      },
      "execution_count": 19,
      "outputs": []
    },
    {
      "cell_type": "markdown",
      "source": [
        "We can load any checkpoint we want by specifying the exact file to load."
      ],
      "metadata": {
        "id": "NLP36YwMBrOg"
      }
    },
    {
      "cell_type": "code",
      "source": [
        "checkpoint_num = 10\n",
        "model.load_weights(\"./training_checkpoints/ckpt_\" + str(checkpoint_num))\n",
        "model.build(tf.TensorShape([1, None]))"
      ],
      "metadata": {
        "id": "mUBBI8pqBwMg"
      },
      "execution_count": 27,
      "outputs": []
    },
    {
      "cell_type": "markdown",
      "source": [
        "### Generating Text\n",
        "Now we can use the lovely function provided by tensorflow to generate some text using any starting string we'd like."
      ],
      "metadata": {
        "id": "THHLr7LdBx7J"
      }
    },
    {
      "cell_type": "code",
      "source": [
        "def generate_text(model, start_string):\n",
        "  # Evaluation step (generating text using the learned model)\n",
        "\n",
        "  # Number of characters to generate\n",
        "  num_generate = 800\n",
        "\n",
        "  # Converting our start string to numbers (vectorizing)\n",
        "  input_eval = [char2idx[s] for s in start_string]\n",
        "  input_eval = tf.expand_dims(input_eval, 0)\n",
        "\n",
        "  # Empty string to store our results\n",
        "  text_generated = []\n",
        "\n",
        "  # Low temperatures results in more predictable text.\n",
        "  # Higher temperatures results in more surprising text.\n",
        "  # Experiment to find the best setting.\n",
        "  temperature = 1.0\n",
        "\n",
        "  # Here batch size == 1\n",
        "  model.reset_states()\n",
        "  for i in range(num_generate):\n",
        "      predictions = model(input_eval)\n",
        "      # remove the batch dimension\n",
        "\n",
        "      predictions = tf.squeeze(predictions, 0)\n",
        "\n",
        "      # using a categorical distribution to predict the character returned by the model\n",
        "      predictions = predictions / temperature\n",
        "      predicted_id = tf.random.categorical(predictions, num_samples=1)[-1,0].numpy()\n",
        "\n",
        "      # We pass the predicted character as the next input to the model\n",
        "      # along with the previous hidden state\n",
        "      input_eval = tf.expand_dims([predicted_id], 0)\n",
        "\n",
        "      text_generated.append(idx2char[predicted_id])\n",
        "\n",
        "  return (start_string + ''.join(text_generated))"
      ],
      "metadata": {
        "id": "nMl82S9KEZrB"
      },
      "execution_count": 23,
      "outputs": []
    },
    {
      "cell_type": "code",
      "source": [
        "inp = input(\"Type a starting string: \")\n",
        "print(generate_text(model, inp))"
      ],
      "metadata": {
        "colab": {
          "base_uri": "https://localhost:8080/"
        },
        "id": "rcoh-41LEd3x",
        "outputId": "286adb19-b583-412d-e997-cfbee1f712ec"
      },
      "execution_count": 28,
      "outputs": [
        {
          "output_type": "stream",
          "name": "stdout",
          "text": [
            "Type a starting string: old man\n",
            "old many throne too forward\n",
            "Than two duke did clan here, he:\n",
            "To-night of tearh, I do you force me.\n",
            "Pardon me, as there will not.\n",
            "\n",
            "Nurse:\n",
            "Marry. 'Zonwa but we are shedies.\n",
            "\n",
            "First Senator:\n",
            "A RICHARD IV:\n",
            "And a doubt disdain your name?\n",
            "\n",
            "HERSMIONE:\n",
            "S dis a grave;\n",
            "For cordit that I saw him spare: undet trust curbands,\n",
            "The lips grow on her bride; and himself with his death;\n",
            "Unsolbood, some his isle did in him\n",
            "That have no obscured for me am not.\n",
            "\n",
            "BENVOLIO:\n",
            "We would do missains such galged fear?\n",
            "\n",
            "SICINIUS:\n",
            "'Tis in God's regors\n",
            "As my mise son, and see them kindle\n",
            "My Lord of Lensticles and clauding highing;\n",
            "Unless I cannot say, to psite an apple.\n",
            "\n",
            "BIANCA:\n",
            "That you send so.\n",
            "\n",
            "CLARENCE:\n",
            "\n",
            "KING RICHARD II:\n",
            "Well, I do beseech you here, and more reports revenge,\n",
            "Heaven with summer fear, they rean not thy right, n\n"
          ]
        }
      ]
    },
    {
      "cell_type": "code",
      "source": [],
      "metadata": {
        "id": "a4-otxBWEhVx"
      },
      "execution_count": null,
      "outputs": []
    }
  ]
}