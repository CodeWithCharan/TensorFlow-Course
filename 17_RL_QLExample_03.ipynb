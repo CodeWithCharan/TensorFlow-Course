{
 "cells": [
  {
   "cell_type": "markdown",
   "id": "4e42af74",
   "metadata": {},
   "source": [
    "### Frozen Lake Enviornment\n",
    "Now that we have a basic understanding of how the gym enviornment works it's time to discuss the specific problem we will be solving.\n",
    "\n",
    "The enviornment we loaded ```FrozenLake-v1``` is one of the simplest enviornments in Open AI Gym. The goal of the agent is to navigate a frozen lake and find the Goal without falling through the ice.\n",
    "\n",
    "There are:\n",
    "- 16 states (one for each square) \n",
    "- 4 possible actions (0: Left, 1: Down, 2: Right, 3: Up)\n",
    "- 4 different types of blocks (F: frozen, H: hole, S: start, G: goal)\n",
    "\n"
   ]
  },
  {
   "cell_type": "code",
   "execution_count": 1,
   "id": "e51f68cd",
   "metadata": {},
   "outputs": [
    {
     "name": "stdout",
     "output_type": "stream",
     "text": [
      "States:16, Actions:4\n"
     ]
    }
   ],
   "source": [
    "import gym\n",
    "import numpy as np\n",
    "import time\n",
    "\n",
    "env = gym.make(\"FrozenLake-v1\", is_slippery=False, render_mode=\"ansi\")\n",
    "\n",
    "STATES = env.observation_space.n\n",
    "ACTIONS = env.action_space.n\n",
    "\n",
    "print(f\"States:{STATES}, Actions:{ACTIONS}\")"
   ]
  },
  {
   "cell_type": "markdown",
   "id": "ac0dc7d6",
   "metadata": {},
   "source": [
    "### Building the Q-Table\n",
    "The first thing we need to do is build an empty Q-Table that we can use to store and update our values."
   ]
  },
  {
   "cell_type": "code",
   "execution_count": 2,
   "id": "faa17773",
   "metadata": {},
   "outputs": [
    {
     "data": {
      "text/plain": [
       "array([[0., 0., 0., 0.],\n",
       "       [0., 0., 0., 0.],\n",
       "       [0., 0., 0., 0.],\n",
       "       [0., 0., 0., 0.],\n",
       "       [0., 0., 0., 0.],\n",
       "       [0., 0., 0., 0.],\n",
       "       [0., 0., 0., 0.],\n",
       "       [0., 0., 0., 0.],\n",
       "       [0., 0., 0., 0.],\n",
       "       [0., 0., 0., 0.],\n",
       "       [0., 0., 0., 0.],\n",
       "       [0., 0., 0., 0.],\n",
       "       [0., 0., 0., 0.],\n",
       "       [0., 0., 0., 0.],\n",
       "       [0., 0., 0., 0.],\n",
       "       [0., 0., 0., 0.]])"
      ]
     },
     "execution_count": 2,
     "metadata": {},
     "output_type": "execute_result"
    }
   ],
   "source": [
    "Q = np.zeros((STATES, ACTIONS))\n",
    "Q"
   ]
  },
  {
   "cell_type": "markdown",
   "id": "9303df86",
   "metadata": {},
   "source": [
    "### Constants\n",
    "As we discussed we need to define some constants that will be used to update our Q-Table and tell our agent when to stop training."
   ]
  },
  {
   "cell_type": "code",
   "execution_count": 3,
   "id": "2838b9c3",
   "metadata": {},
   "outputs": [],
   "source": [
    "EPISODES = 2000 # how many times to run the enviornment from the beginning\n",
    "MAX_STEPS = 100  # max number of steps allowed for each run of enviornment\n",
    "\n",
    "ALPHA = 0.81 # learning rate\n",
    "GAMMA = 0.96 # Discount Factor"
   ]
  },
  {
   "cell_type": "markdown",
   "id": "627f3700",
   "metadata": {},
   "source": [
    "### Picking an Action\n",
    "Remember that we can pick an action using one of two methods:\n",
    "1. Randomly picking a valid action\n",
    "2. Using the current Q-Table to find the best action.\n",
    "\n",
    "Here we will define a new value $\\epsilon$ that will tell us the probabillity of selecting a random action. This value will start off very high and slowly decrease as the agent learns more about the enviornment."
   ]
  },
  {
   "cell_type": "code",
   "execution_count": 4,
   "id": "237604d0",
   "metadata": {},
   "outputs": [],
   "source": [
    "epsilon = 0.9  # start with a 90% chance of picking a random action"
   ]
  },
  {
   "cell_type": "code",
   "execution_count": 5,
   "id": "ea6ddfba",
   "metadata": {},
   "outputs": [
    {
     "name": "stdout",
     "output_type": "stream",
     "text": [
      "[[0.78275779 0.8153727  0.8153727  0.78275779]\n",
      " [0.78275779 0.         0.84934656 0.81537269]\n",
      " [0.8153727  0.884736   0.81523488 0.84934656]\n",
      " [0.84933737 0.         0.3491673  0.75604953]\n",
      " [0.8153727  0.84934656 0.         0.78275779]\n",
      " [0.         0.         0.         0.        ]\n",
      " [0.         0.9216     0.         0.84934648]\n",
      " [0.         0.         0.         0.        ]\n",
      " [0.84934656 0.         0.884736   0.8153727 ]\n",
      " [0.84934656 0.9216     0.9216     0.        ]\n",
      " [0.884736   0.96       0.         0.884736  ]\n",
      " [0.         0.         0.         0.        ]\n",
      " [0.         0.         0.         0.        ]\n",
      " [0.         0.9216     0.96       0.884736  ]\n",
      " [0.9216     0.96       1.         0.9216    ]\n",
      " [0.         0.         0.         0.        ]]\n",
      "Average reward: 0.7625\n"
     ]
    }
   ],
   "source": [
    "RENDER = False # if you want to see training set to true\n",
    "\n",
    "rewards = []\n",
    "\n",
    "for episode in range(EPISODES):\n",
    "    \n",
    "    state = env.reset()[0]\n",
    "    \n",
    "    for _ in range(MAX_STEPS):\n",
    "        \n",
    "        if RENDER:\n",
    "            env.render()\n",
    "        \n",
    "        if np.random.uniform(0, 1) < epsilon: # we will check if a randomly selected value is less than epsilon.\n",
    "            action = env.action_space.sample() # take random action\n",
    "        else:\n",
    "            action = np.argmax(Q[state,:]) # use Q table to pick best action based on current values\n",
    "            \n",
    "        new_state, reward, terminated, truncated, _ = env.step(action)\n",
    "        \n",
    "        # formula we discussed\n",
    "        Q[state, action] = Q[state, action] + ALPHA * (reward + GAMMA * np.max(Q[new_state, :]) - Q[state, action])\n",
    "        \n",
    "        state = new_state\n",
    "        \n",
    "        if terminated:\n",
    "            rewards.append(reward)\n",
    "            epsilon -= 0.001\n",
    "            break # reached goal\n",
    "            \n",
    "print(Q)\n",
    "print(f\"Average reward: {sum(rewards)/len(rewards)}\")\n",
    "# and now we can see our Q values!"
   ]
  },
  {
   "cell_type": "code",
   "execution_count": 6,
   "id": "f63bb15f",
   "metadata": {},
   "outputs": [
    {
     "data": {
      "image/png": "[encoded data removed]",
      "text/plain": [
       "<Figure size 640x480 with 1 Axes>"
      ]
     },
     "metadata": {},
     "output_type": "display_data"
    }
   ],
   "source": [
    "# we can plot the training progress and see how the agent improved\n",
    "import matplotlib.pyplot as plt\n",
    "\n",
    "def get_average(values):\n",
    "  return sum(values)/len(values)\n",
    "\n",
    "avg_rewards = []\n",
    "for i in range(0, len(rewards), 100):\n",
    "  avg_rewards.append(get_average(rewards[i:i+100])) \n",
    "\n",
    "plt.plot(avg_rewards)\n",
    "plt.ylabel('average reward')\n",
    "plt.xlabel('episodes (100\\'s)')\n",
    "plt.show()"
   ]
  }
 ],
 "metadata": {
  "kernelspec": {
   "display_name": "Python 3 (ipykernel)",
   "language": "python",
   "name": "python3"
  },
  "language_info": {
   "codemirror_mode": {
    "name": "ipython",
    "version": 3
   },
   "file_extension": ".py",
   "mimetype": "text/x-python",
   "name": "python",
   "nbconvert_exporter": "python",
   "pygments_lexer": "ipython3",
   "version": "3.11.2"
  }
 },
 "nbformat": 4,
 "nbformat_minor": 5
}
