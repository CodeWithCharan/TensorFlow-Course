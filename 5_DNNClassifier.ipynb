{
 "cells": [
  {
   "cell_type": "markdown",
   "id": "9111b590",
   "metadata": {},
   "source": [
    "### Building the Model\n",
    "And now we are ready to choose a model. For classification tasks there are variety of different estimators/models that we can pick from. Some options are listed below.\n",
    "- ```DNNClassifier``` (Deep Neural Network)\n",
    "- ```LinearClassifier```\n",
    "\n",
    "We can choose either model but the DNN seems to be the best choice. This is because we may not be able to find a linear coorespondence in our data. \n",
    "\n",
    "So let's build a model!"
   ]
  },
  {
   "cell_type": "code",
   "execution_count": 1,
   "id": "fd241d9f",
   "metadata": {},
   "outputs": [
    {
     "name": "stdout",
     "output_type": "stream",
     "text": [
      "WARNING:tensorflow:From C:\\Users\\91889\\AppData\\Roaming\\Python\\Python311\\site-packages\\tensorflow\\python\\compat\\v2_compat.py:107: disable_resource_variables (from tensorflow.python.ops.variable_scope) is deprecated and will be removed in a future version.\n",
      "Instructions for updating:\n",
      "non-resource variables are not supported in the long term\n"
     ]
    }
   ],
   "source": [
    "from __future__ import absolute_import, division, print_function, unicode_literals\n",
    "\n",
    "import tensorflow.compat.v1 as tf\n",
    "tf.disable_v2_behavior()\n",
    "\n",
    "import pandas as pd"
   ]
  },
  {
   "cell_type": "code",
   "execution_count": 2,
   "id": "bafa1231",
   "metadata": {},
   "outputs": [
    {
     "name": "stdout",
     "output_type": "stream",
     "text": [
      "WARNING:tensorflow:From C:\\Users\\91889\\AppData\\Local\\Temp\\ipykernel_33272\\2991982484.py:28: numeric_column (from tensorflow.python.feature_column.feature_column_v2) is deprecated and will be removed in a future version.\n",
      "Instructions for updating:\n",
      "Use Keras preprocessing layers instead, either directly or via the `tf.keras.utils.FeatureSpace` utility. Each of `tf.feature_column.*` has a functional equivalent in `tf.keras.layers` for feature preprocessing when training a Keras model.\n",
      "[NumericColumn(key='SepalLength', shape=(1,), default_value=None, dtype=tf.float32, normalizer_fn=None), NumericColumn(key='SepalWidth', shape=(1,), default_value=None, dtype=tf.float32, normalizer_fn=None), NumericColumn(key='PetalLength', shape=(1,), default_value=None, dtype=tf.float32, normalizer_fn=None), NumericColumn(key='PetalWidth', shape=(1,), default_value=None, dtype=tf.float32, normalizer_fn=None)]\n"
     ]
    }
   ],
   "source": [
    "# Lets define some constants to help us later on\n",
    "SPECIES = ['Setosa', 'Versicolor', 'Virginica']\n",
    "CSV_COLUMN_NAMES = ['SepalLength', 'SepalWidth', 'PetalLength', 'PetalWidth', 'Species']\n",
    "\n",
    "train_path = tf.keras.utils.get_file(\"iris_training.csv\", \"https://storage.googleapis.com/download.tensorflow.org/data/iris_training.csv\")\n",
    "test_path = tf.keras.utils.get_file(\"iris_test.csv\", \"https://storage.googleapis.com/download.tensorflow.org/data/iris_test.csv\")\n",
    "\n",
    "# Here we use keras (a module inside of TensorFlow) to grab our datasets and read them into a pandas dataframe\n",
    "train = pd.read_csv(train_path, names=CSV_COLUMN_NAMES, header=0)\n",
    "test = pd.read_csv(test_path, names=CSV_COLUMN_NAMES, header=0)\n",
    "\n",
    "train_y = train.pop('Species')\n",
    "test_y = test.pop('Species')\n",
    "\n",
    "def input_fn(features, labels, training=True, batch_size=256):\n",
    "    # Convert the inputs to a Dataset.\n",
    "    dataset = tf.data.Dataset.from_tensor_slices((dict(features), labels))\n",
    "\n",
    "    # Shuffle and repeat if you are in training mode.\n",
    "    if training:\n",
    "        dataset = dataset.shuffle(1000).repeat()\n",
    "    \n",
    "    return dataset.batch(batch_size)\n",
    "\n",
    "# Feature columns describe how to use the input.\n",
    "my_feature_columns = []\n",
    "for key in train.keys():\n",
    "    my_feature_columns.append(tf.feature_column.numeric_column(key=key))\n",
    "print(my_feature_columns)"
   ]
  },
  {
   "cell_type": "code",
   "execution_count": 3,
   "id": "a44f33d6",
   "metadata": {},
   "outputs": [
    {
     "name": "stdout",
     "output_type": "stream",
     "text": [
      "WARNING:tensorflow:From C:\\Users\\91889\\AppData\\Local\\Temp\\ipykernel_33272\\2221267581.py:2: DNNClassifier.__init__ (from tensorflow_estimator.python.estimator.canned.dnn) is deprecated and will be removed in a future version.\n",
      "Instructions for updating:\n",
      "Use tf.keras instead.\n",
      "WARNING:tensorflow:From C:\\Users\\91889\\AppData\\Roaming\\Python\\Python311\\site-packages\\tensorflow_estimator\\python\\estimator\\canned\\dnn.py:807: Estimator.__init__ (from tensorflow_estimator.python.estimator.estimator) is deprecated and will be removed in a future version.\n",
      "Instructions for updating:\n",
      "Use tf.keras instead.\n",
      "WARNING:tensorflow:From C:\\Users\\91889\\AppData\\Roaming\\Python\\Python311\\site-packages\\tensorflow_estimator\\python\\estimator\\estimator.py:1842: RunConfig.__init__ (from tensorflow_estimator.python.estimator.run_config) is deprecated and will be removed in a future version.\n",
      "Instructions for updating:\n",
      "Use tf.keras instead.\n",
      "INFO:tensorflow:Using default config.\n",
      "WARNING:tensorflow:Using temporary folder as model directory: C:\\Users\\91889\\AppData\\Local\\Temp\\tmp545w27iz\n",
      "INFO:tensorflow:Using config: {'_model_dir': 'C:\\\\Users\\\\91889\\\\AppData\\\\Local\\\\Temp\\\\tmp545w27iz', '_tf_random_seed': None, '_save_summary_steps': 100, '_save_checkpoints_steps': None, '_save_checkpoints_secs': 600, '_session_config': allow_soft_placement: true\n",
      "graph_options {\n",
      "  rewrite_options {\n",
      "    meta_optimizer_iterations: ONE\n",
      "  }\n",
      "}\n",
      ", '_keep_checkpoint_max': 5, '_keep_checkpoint_every_n_hours': 10000, '_log_step_count_steps': 100, '_train_distribute': None, '_device_fn': None, '_protocol': None, '_eval_distribute': None, '_experimental_distribute': None, '_experimental_max_worker_delay_secs': None, '_session_creation_timeout_secs': 7200, '_checkpoint_save_graph_def': True, '_service': None, '_cluster_spec': ClusterSpec({}), '_task_type': 'worker', '_task_id': 0, '_global_id_in_cluster': 0, '_master': '', '_evaluation_master': '', '_is_chief': True, '_num_ps_replicas': 0, '_num_worker_replicas': 1}\n"
     ]
    }
   ],
   "source": [
    "# Build a DNN with 2 hidden layers with 30 and 10 hidden nodes each.\n",
    "classifier = tf.estimator.DNNClassifier(\n",
    "    feature_columns=my_feature_columns,\n",
    "    # Two hidden layers of 30 and 10 nodes respectively.\n",
    "    hidden_units=[30, 10],\n",
    "    # The model must choose between 3 classes.\n",
    "    n_classes=3)"
   ]
  },
  {
   "cell_type": "code",
   "execution_count": 4,
   "id": "2dd62c34",
   "metadata": {},
   "outputs": [
    {
     "name": "stdout",
     "output_type": "stream",
     "text": [
      "WARNING:tensorflow:From C:\\Users\\91889\\AppData\\Roaming\\Python\\Python311\\site-packages\\tensorflow_estimator\\python\\estimator\\estimator.py:385: StopAtStepHook.__init__ (from tensorflow.python.training.basic_session_run_hooks) is deprecated and will be removed in a future version.\n",
      "Instructions for updating:\n",
      "Use tf.keras instead.\n",
      "WARNING:tensorflow:From C:\\Users\\91889\\AppData\\Roaming\\Python\\Python311\\site-packages\\tensorflow\\python\\training\\training_util.py:396: Variable.initialized_value (from tensorflow.python.ops.variables) is deprecated and will be removed in a future version.\n",
      "Instructions for updating:\n",
      "Use Variable.read_value. Variables in 2.X are initialized automatically both in eager and graph (inside tf.defun) contexts.\n",
      "INFO:tensorflow:Calling model_fn.\n",
      "WARNING:tensorflow:From C:\\Users\\91889\\AppData\\Roaming\\Python\\Python311\\site-packages\\tensorflow_estimator\\python\\estimator\\canned\\dnn.py:446: dnn_logit_fn_builder (from tensorflow_estimator.python.estimator.canned.dnn) is deprecated and will be removed in a future version.\n",
      "Instructions for updating:\n",
      "Use tf.keras instead.\n",
      "WARNING:tensorflow:From C:\\Users\\91889\\AppData\\Roaming\\Python\\Python311\\site-packages\\tensorflow\\python\\training\\adagrad.py:138: calling Constant.__init__ (from tensorflow.python.ops.init_ops) with dtype is deprecated and will be removed in a future version.\n",
      "Instructions for updating:\n",
      "Call initializer instance with the dtype argument instead of passing it to the constructor\n",
      "WARNING:tensorflow:From C:\\Users\\91889\\AppData\\Roaming\\Python\\Python311\\site-packages\\tensorflow_estimator\\python\\estimator\\model_fn.py:250: EstimatorSpec.__new__ (from tensorflow_estimator.python.estimator.model_fn) is deprecated and will be removed in a future version.\n",
      "Instructions for updating:\n",
      "Use tf.keras instead.\n",
      "INFO:tensorflow:Done calling model_fn.\n",
      "WARNING:tensorflow:From C:\\Users\\91889\\AppData\\Roaming\\Python\\Python311\\site-packages\\tensorflow_estimator\\python\\estimator\\estimator.py:1414: NanTensorHook.__init__ (from tensorflow.python.training.basic_session_run_hooks) is deprecated and will be removed in a future version.\n",
      "Instructions for updating:\n",
      "Use tf.keras instead.\n",
      "WARNING:tensorflow:From C:\\Users\\91889\\AppData\\Roaming\\Python\\Python311\\site-packages\\tensorflow_estimator\\python\\estimator\\estimator.py:1417: LoggingTensorHook.__init__ (from tensorflow.python.training.basic_session_run_hooks) is deprecated and will be removed in a future version.\n",
      "Instructions for updating:\n",
      "Use tf.keras instead.\n",
      "WARNING:tensorflow:From C:\\Users\\91889\\AppData\\Roaming\\Python\\Python311\\site-packages\\tensorflow\\python\\training\\basic_session_run_hooks.py:232: SecondOrStepTimer.__init__ (from tensorflow.python.training.basic_session_run_hooks) is deprecated and will be removed in a future version.\n",
      "Instructions for updating:\n",
      "Use tf.keras instead.\n",
      "WARNING:tensorflow:From C:\\Users\\91889\\AppData\\Roaming\\Python\\Python311\\site-packages\\tensorflow_estimator\\python\\estimator\\estimator.py:1454: CheckpointSaverHook.__init__ (from tensorflow.python.training.basic_session_run_hooks) is deprecated and will be removed in a future version.\n",
      "Instructions for updating:\n",
      "Use tf.keras instead.\n",
      "INFO:tensorflow:Create CheckpointSaverHook.\n",
      "WARNING:tensorflow:From C:\\Users\\91889\\AppData\\Roaming\\Python\\Python311\\site-packages\\tensorflow\\python\\training\\monitored_session.py:579: StepCounterHook.__init__ (from tensorflow.python.training.basic_session_run_hooks) is deprecated and will be removed in a future version.\n",
      "Instructions for updating:\n",
      "Use tf.keras instead.\n",
      "WARNING:tensorflow:From C:\\Users\\91889\\AppData\\Roaming\\Python\\Python311\\site-packages\\tensorflow\\python\\training\\monitored_session.py:586: SummarySaverHook.__init__ (from tensorflow.python.training.basic_session_run_hooks) is deprecated and will be removed in a future version.\n",
      "Instructions for updating:\n",
      "Use tf.keras instead.\n",
      "INFO:tensorflow:Graph was finalized.\n",
      "INFO:tensorflow:Running local_init_op.\n",
      "INFO:tensorflow:Done running local_init_op.\n",
      "INFO:tensorflow:Calling checkpoint listeners before saving checkpoint 0...\n",
      "INFO:tensorflow:Saving checkpoints for 0 into C:\\Users\\91889\\AppData\\Local\\Temp\\tmp545w27iz\\model.ckpt.\n",
      "INFO:tensorflow:Calling checkpoint listeners after saving checkpoint 0...\n",
      "WARNING:tensorflow:From C:\\Users\\91889\\AppData\\Roaming\\Python\\Python311\\site-packages\\tensorflow\\python\\training\\monitored_session.py:1455: SessionRunArgs.__new__ (from tensorflow.python.training.session_run_hook) is deprecated and will be removed in a future version.\n",
      "Instructions for updating:\n",
      "Use tf.keras instead.\n",
      "WARNING:tensorflow:From C:\\Users\\91889\\AppData\\Roaming\\Python\\Python311\\site-packages\\tensorflow\\python\\training\\monitored_session.py:1454: SessionRunContext.__init__ (from tensorflow.python.training.session_run_hook) is deprecated and will be removed in a future version.\n",
      "Instructions for updating:\n",
      "Use tf.keras instead.\n",
      "WARNING:tensorflow:From C:\\Users\\91889\\AppData\\Roaming\\Python\\Python311\\site-packages\\tensorflow\\python\\training\\monitored_session.py:1474: SessionRunValues.__new__ (from tensorflow.python.training.session_run_hook) is deprecated and will be removed in a future version.\n",
      "Instructions for updating:\n",
      "Use tf.keras instead.\n",
      "INFO:tensorflow:loss = 279.6685, step = 1\n",
      "INFO:tensorflow:global_step/sec: 530.108\n",
      "INFO:tensorflow:loss = 72.41687, step = 101 (0.189 sec)\n",
      "INFO:tensorflow:global_step/sec: 1119.04\n",
      "INFO:tensorflow:loss = 39.260338, step = 201 (0.105 sec)\n",
      "INFO:tensorflow:global_step/sec: 847.85\n",
      "INFO:tensorflow:loss = 28.624416, step = 301 (0.102 sec)\n",
      "INFO:tensorflow:global_step/sec: 869.562\n",
      "INFO:tensorflow:loss = 25.240421, step = 401 (0.115 sec)\n",
      "INFO:tensorflow:global_step/sec: 854.308\n",
      "INFO:tensorflow:loss = 22.66052, step = 501 (0.117 sec)\n",
      "INFO:tensorflow:global_step/sec: 680.637\n",
      "INFO:tensorflow:loss = 19.920322, step = 601 (0.147 sec)\n",
      "INFO:tensorflow:global_step/sec: 965.035\n",
      "INFO:tensorflow:loss = 20.00707, step = 701 (0.104 sec)\n",
      "INFO:tensorflow:global_step/sec: 678.698\n",
      "INFO:tensorflow:loss = 16.362297, step = 801 (0.147 sec)\n",
      "INFO:tensorflow:global_step/sec: 774.132\n",
      "INFO:tensorflow:loss = 17.212637, step = 901 (0.129 sec)\n",
      "INFO:tensorflow:global_step/sec: 783.345\n",
      "INFO:tensorflow:loss = 16.974586, step = 1001 (0.128 sec)\n",
      "INFO:tensorflow:global_step/sec: 837.927\n",
      "INFO:tensorflow:loss = 11.636169, step = 1101 (0.119 sec)\n",
      "INFO:tensorflow:global_step/sec: 858.526\n",
      "INFO:tensorflow:loss = 13.676994, step = 1201 (0.116 sec)\n",
      "INFO:tensorflow:global_step/sec: 773.081\n",
      "INFO:tensorflow:loss = 15.194347, step = 1301 (0.132 sec)\n",
      "INFO:tensorflow:global_step/sec: 829.206\n",
      "INFO:tensorflow:loss = 13.542453, step = 1401 (0.118 sec)\n",
      "INFO:tensorflow:global_step/sec: 854.063\n",
      "INFO:tensorflow:loss = 12.956996, step = 1501 (0.117 sec)\n",
      "INFO:tensorflow:global_step/sec: 1006.06\n",
      "INFO:tensorflow:loss = 15.545003, step = 1601 (0.099 sec)\n",
      "INFO:tensorflow:global_step/sec: 1002.9\n",
      "INFO:tensorflow:loss = 12.084961, step = 1701 (0.100 sec)\n",
      "INFO:tensorflow:global_step/sec: 923.705\n",
      "INFO:tensorflow:loss = 11.838909, step = 1801 (0.108 sec)\n",
      "INFO:tensorflow:global_step/sec: 929.36\n",
      "INFO:tensorflow:loss = 10.670552, step = 1901 (0.108 sec)\n",
      "INFO:tensorflow:global_step/sec: 998.875\n",
      "INFO:tensorflow:loss = 11.365872, step = 2001 (0.100 sec)\n",
      "INFO:tensorflow:global_step/sec: 874.398\n",
      "INFO:tensorflow:loss = 11.313171, step = 2101 (0.114 sec)\n",
      "INFO:tensorflow:global_step/sec: 970.403\n",
      "INFO:tensorflow:loss = 11.013257, step = 2201 (0.103 sec)\n",
      "INFO:tensorflow:global_step/sec: 990.779\n",
      "INFO:tensorflow:loss = 8.157379, step = 2301 (0.101 sec)\n",
      "INFO:tensorflow:global_step/sec: 860.552\n",
      "INFO:tensorflow:loss = 11.108431, step = 2401 (0.116 sec)\n",
      "INFO:tensorflow:global_step/sec: 994.038\n",
      "INFO:tensorflow:loss = 12.001219, step = 2501 (0.101 sec)\n",
      "INFO:tensorflow:global_step/sec: 833.511\n",
      "INFO:tensorflow:loss = 13.776612, step = 2601 (0.120 sec)\n",
      "INFO:tensorflow:global_step/sec: 1000.49\n",
      "INFO:tensorflow:loss = 10.248058, step = 2701 (0.100 sec)\n",
      "INFO:tensorflow:global_step/sec: 894.638\n",
      "INFO:tensorflow:loss = 8.809133, step = 2801 (0.112 sec)\n",
      "INFO:tensorflow:global_step/sec: 868.319\n",
      "INFO:tensorflow:loss = 12.250586, step = 2901 (0.131 sec)\n",
      "INFO:tensorflow:global_step/sec: 661.256\n",
      "INFO:tensorflow:loss = 10.625723, step = 3001 (0.136 sec)\n",
      "INFO:tensorflow:global_step/sec: 1006.41\n"
     ]
    },
    {
     "name": "stdout",
     "output_type": "stream",
     "text": [
      "INFO:tensorflow:loss = 11.425772, step = 3101 (0.099 sec)\n",
      "INFO:tensorflow:global_step/sec: 997.995\n",
      "INFO:tensorflow:loss = 9.854471, step = 3201 (0.100 sec)\n",
      "INFO:tensorflow:global_step/sec: 970.286\n",
      "INFO:tensorflow:loss = 9.487341, step = 3301 (0.103 sec)\n",
      "INFO:tensorflow:global_step/sec: 882.157\n",
      "INFO:tensorflow:loss = 9.114075, step = 3401 (0.113 sec)\n",
      "INFO:tensorflow:global_step/sec: 1005.17\n",
      "INFO:tensorflow:loss = 10.268139, step = 3501 (0.107 sec)\n",
      "INFO:tensorflow:global_step/sec: 982.28\n",
      "INFO:tensorflow:loss = 9.130579, step = 3601 (0.100 sec)\n",
      "INFO:tensorflow:global_step/sec: 944.327\n",
      "INFO:tensorflow:loss = 9.447979, step = 3701 (0.100 sec)\n",
      "INFO:tensorflow:global_step/sec: 1089.77\n",
      "INFO:tensorflow:loss = 11.892428, step = 3801 (0.092 sec)\n",
      "INFO:tensorflow:global_step/sec: 920.546\n",
      "INFO:tensorflow:loss = 9.253685, step = 3901 (0.109 sec)\n",
      "INFO:tensorflow:global_step/sec: 1000.49\n",
      "INFO:tensorflow:loss = 9.145945, step = 4001 (0.100 sec)\n",
      "INFO:tensorflow:global_step/sec: 906.757\n",
      "INFO:tensorflow:loss = 8.651191, step = 4101 (0.112 sec)\n",
      "INFO:tensorflow:global_step/sec: 1003.53\n",
      "INFO:tensorflow:loss = 8.80438, step = 4201 (0.098 sec)\n",
      "INFO:tensorflow:global_step/sec: 998.675\n",
      "INFO:tensorflow:loss = 6.342749, step = 4301 (0.100 sec)\n",
      "INFO:tensorflow:global_step/sec: 1016.08\n",
      "INFO:tensorflow:loss = 7.731612, step = 4401 (0.114 sec)\n",
      "INFO:tensorflow:global_step/sec: 851.691\n",
      "INFO:tensorflow:loss = 9.334511, step = 4501 (0.102 sec)\n",
      "INFO:tensorflow:global_step/sec: 1008.81\n",
      "INFO:tensorflow:loss = 8.318489, step = 4601 (0.099 sec)\n",
      "INFO:tensorflow:global_step/sec: 997.086\n",
      "INFO:tensorflow:loss = 7.0628576, step = 4701 (0.100 sec)\n",
      "INFO:tensorflow:global_step/sec: 1010.95\n",
      "INFO:tensorflow:loss = 8.647936, step = 4801 (0.114 sec)\n",
      "INFO:tensorflow:global_step/sec: 845.481\n",
      "INFO:tensorflow:loss = 9.905997, step = 4901 (0.103 sec)\n",
      "INFO:tensorflow:Calling checkpoint listeners before saving checkpoint 5000...\n",
      "INFO:tensorflow:Saving checkpoints for 5000 into C:\\Users\\91889\\AppData\\Local\\Temp\\tmp545w27iz\\model.ckpt.\n",
      "INFO:tensorflow:Calling checkpoint listeners after saving checkpoint 5000...\n",
      "INFO:tensorflow:Loss for final step: 9.549723.\n"
     ]
    },
    {
     "data": {
      "text/plain": [
       "<tensorflow_estimator.python.estimator.canned.dnn.DNNClassifier at 0x225635000d0>"
      ]
     },
     "execution_count": 4,
     "metadata": {},
     "output_type": "execute_result"
    }
   ],
   "source": [
    "# We include a lambda to avoid creating an inner function previously\n",
    "classifier.train(\n",
    "    input_fn=lambda: input_fn(train, train_y, training=True),\n",
    "    steps=5000)"
   ]
  },
  {
   "cell_type": "code",
   "execution_count": 5,
   "id": "3115b571",
   "metadata": {},
   "outputs": [
    {
     "name": "stdout",
     "output_type": "stream",
     "text": [
      "INFO:tensorflow:Calling model_fn.\n",
      "INFO:tensorflow:Done calling model_fn.\n",
      "INFO:tensorflow:Starting evaluation at 2023-06-03T21:22:33\n",
      "WARNING:tensorflow:From C:\\Users\\91889\\AppData\\Roaming\\Python\\Python311\\site-packages\\tensorflow\\python\\training\\evaluation.py:260: FinalOpsHook.__init__ (from tensorflow.python.training.basic_session_run_hooks) is deprecated and will be removed in a future version.\n",
      "Instructions for updating:\n",
      "Use tf.keras instead.\n",
      "INFO:tensorflow:Graph was finalized.\n",
      "INFO:tensorflow:Restoring parameters from C:\\Users\\91889\\AppData\\Local\\Temp\\tmp545w27iz\\model.ckpt-5000\n",
      "INFO:tensorflow:Running local_init_op.\n",
      "INFO:tensorflow:Done running local_init_op.\n",
      "INFO:tensorflow:Inference Time : 1.34374s\n",
      "INFO:tensorflow:Finished evaluation at 2023-06-03-21:22:34\n",
      "INFO:tensorflow:Saving dict for global step 5000: accuracy = 0.96666664, average_loss = 0.11681326, global_step = 5000, loss = 3.5043976\n",
      "INFO:tensorflow:Saving 'checkpoint_path' summary for global step 5000: C:\\Users\\91889\\AppData\\Local\\Temp\\tmp545w27iz\\model.ckpt-5000\n",
      "\n",
      "Test set accuracy: 0.967\n",
      "\n"
     ]
    }
   ],
   "source": [
    "eval_result = classifier.evaluate(\n",
    "    input_fn=lambda: input_fn(test, test_y, training=False))\n",
    "\n",
    "print('\\nTest set accuracy: {accuracy:0.3f}\\n'.format(**eval_result))"
   ]
  },
  {
   "cell_type": "code",
   "execution_count": 8,
   "id": "faf1a7e1",
   "metadata": {},
   "outputs": [
    {
     "name": "stdout",
     "output_type": "stream",
     "text": [
      "Please type numeric values as prompted.\n",
      "SepalLength: 5.9\n",
      "SepalWidth: 3.0\n",
      "PetalLength: 4.2\n",
      "PetalWidth: 1.5\n",
      "INFO:tensorflow:Calling model_fn.\n",
      "INFO:tensorflow:Done calling model_fn.\n",
      "INFO:tensorflow:Graph was finalized.\n",
      "INFO:tensorflow:Restoring parameters from C:\\Users\\91889\\AppData\\Local\\Temp\\tmp545w27iz\\model.ckpt-5000\n",
      "INFO:tensorflow:Running local_init_op.\n",
      "INFO:tensorflow:Done running local_init_op.\n",
      "Prediction is \"Versicolor\" (99.0%)\n"
     ]
    }
   ],
   "source": [
    "def input_fn(features, batch_size=256):\n",
    "    # Convert the inputs to a Dataset without labels.\n",
    "    return tf.data.Dataset.from_tensor_slices(dict(features)).batch(batch_size)\n",
    "\n",
    "features = ['SepalLength', 'SepalWidth', 'PetalLength', 'PetalWidth']\n",
    "predict = {}\n",
    "\n",
    "print(\"Please type numeric values as prompted.\")\n",
    "for feature in features:\n",
    "  valid = True\n",
    "  while valid: \n",
    "    val = input(feature + \": \")\n",
    "    if not val.isdigit(): valid = False\n",
    "\n",
    "  predict[feature] = [float(val)]\n",
    "\n",
    "predictions = classifier.predict(input_fn=lambda: input_fn(predict))\n",
    "for pred_dict in predictions:\n",
    "    class_id = pred_dict['class_ids'][0]\n",
    "    probability = pred_dict['probabilities'][class_id]\n",
    "\n",
    "    print('Prediction is \"{}\" ({:.1f}%)'.format(\n",
    "        SPECIES[class_id], 100 * probability))\n"
   ]
  },
  {
   "cell_type": "code",
   "execution_count": null,
   "id": "f2f708f4",
   "metadata": {},
   "outputs": [],
   "source": []
  }
 ],
 "metadata": {
  "kernelspec": {
   "display_name": "Python 3 (ipykernel)",
   "language": "python",
   "name": "python3"
  },
  "language_info": {
   "codemirror_mode": {
    "name": "ipython",
    "version": 3
   },
   "file_extension": ".py",
   "mimetype": "text/x-python",
   "name": "python",
   "nbconvert_exporter": "python",
   "pygments_lexer": "ipython3",
   "version": "3.11.2"
  }
 },
 "nbformat": 4,
 "nbformat_minor": 5
}
