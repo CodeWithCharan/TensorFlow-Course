{
 "cells": [
  {
   "cell_type": "code",
   "execution_count": 1,
   "id": "0ed5deec",
   "metadata": {},
   "outputs": [
    {
     "name": "stdout",
     "output_type": "stream",
     "text": [
      "Defaulting to user installation because normal site-packages is not writeable\n",
      "Requirement already satisfied: tensorflow_probability in c:\\users\\91889\\appdata\\roaming\\python\\python311\\site-packages (0.20.1)\n",
      "Requirement already satisfied: absl-py in c:\\users\\91889\\appdata\\roaming\\python\\python311\\site-packages (from tensorflow_probability) (1.4.0)\n",
      "Requirement already satisfied: six>=1.10.0 in c:\\users\\91889\\appdata\\roaming\\python\\python311\\site-packages (from tensorflow_probability) (1.16.0)\n",
      "Requirement already satisfied: numpy>=1.13.3 in c:\\users\\91889\\appdata\\roaming\\python\\python311\\site-packages (from tensorflow_probability) (1.23.5)\n",
      "Requirement already satisfied: decorator in c:\\users\\91889\\appdata\\roaming\\python\\python311\\site-packages (from tensorflow_probability) (5.1.1)\n",
      "Requirement already satisfied: cloudpickle>=1.3 in c:\\users\\91889\\appdata\\roaming\\python\\python311\\site-packages (from tensorflow_probability) (2.2.1)\n",
      "Requirement already satisfied: gast>=0.3.2 in c:\\users\\91889\\appdata\\roaming\\python\\python311\\site-packages (from tensorflow_probability) (0.4.0)\n",
      "Requirement already satisfied: dm-tree in c:\\users\\91889\\appdata\\roaming\\python\\python311\\site-packages (from tensorflow_probability) (0.1.8)\n"
     ]
    },
    {
     "name": "stderr",
     "output_type": "stream",
     "text": [
      "\n",
      "[notice] A new release of pip is available: 23.1.2 -> 23.2.1\n",
      "[notice] To update, run: python.exe -m pip install --upgrade pip\n"
     ]
    }
   ],
   "source": [
    "!pip install tensorflow_probability "
   ]
  },
  {
   "cell_type": "code",
   "execution_count": 2,
   "id": "4478d66d",
   "metadata": {
    "scrolled": true
   },
   "outputs": [
    {
     "name": "stderr",
     "output_type": "stream",
     "text": [
      "\n",
      "Usage:   \n",
      "  pip install [options] <requirement specifier> [package-index-options] ...\n",
      "  pip install [options] -r <requirements file> [package-index-options] ...\n",
      "  pip install [options] [-e] <vcs project url> ...\n",
      "  pip install [options] [-e] <local project path> ...\n",
      "  pip install [options] <archive url/path> ...\n",
      "\n",
      "no such option: --ugrade\n"
     ]
    }
   ],
   "source": [
    "!pip install tensorflow_probability==0.8.0rc0 --user --ugrade"
   ]
  },
  {
   "cell_type": "code",
   "execution_count": 3,
   "id": "d8081519",
   "metadata": {},
   "outputs": [],
   "source": [
    "import numpy"
   ]
  },
  {
   "cell_type": "code",
   "execution_count": 4,
   "id": "3b72e26f",
   "metadata": {
    "scrolled": true
   },
   "outputs": [],
   "source": [
    "import tensorflow_probability as tfp\n",
    "import tensorflow as tf"
   ]
  },
  {
   "cell_type": "markdown",
   "id": "5eac82d1",
   "metadata": {},
   "source": [
    "### We will model a simple weather system and try to predict the temperature on each day given the following information.\n",
    "\n",
    "    1. Cold days are encoded by a 0 and hot days are encoded by a 1.\n",
    "    2. The first day in our sequence has an 80% chance of being cold.\n",
    "    3. A cold day has a 30% chance of being followed by a hot day.\n",
    "    4. A hot day has a 20% chance of being followed by a cold day.\n",
    "    5. On each day the temperature is normally distributed with mean and standard deviation 0 and 5 on a cold day and mean and standard deviation 15 and 10 on a hot day."
   ]
  },
  {
   "cell_type": "code",
   "execution_count": 23,
   "id": "71db5a19",
   "metadata": {},
   "outputs": [],
   "source": [
    "tfd = tfp.distributions # making a shortcut for later on\n",
    "\n",
    "initial_distribution = tfd.Categorical(probs=[0.2, 0.8]) # Refer to point 2 above\n",
    "transition_distribution = tfd.Categorical(probs=[[0.7, 0.3],[0.2, 0.8]]) # refer to points 3 and 4 above\n",
    "observation_distribution = tfd.Normal(loc=[0., 15.],scale=[5., 10.]) # refer to point 5 above\n",
    "\n",
    "# the loc argument represents the mean and the scale is the standard devitation"
   ]
  },
  {
   "cell_type": "code",
   "execution_count": 24,
   "id": "ee62174e",
   "metadata": {},
   "outputs": [],
   "source": [
    "model = tfd.HiddenMarkovModel(initial_distribution=initial_distribution,transition_distribution=transition_distribution,observation_distribution=observation_distribution,num_steps=7)"
   ]
  },
  {
   "cell_type": "code",
   "execution_count": 25,
   "id": "ac288665",
   "metadata": {},
   "outputs": [
    {
     "name": "stdout",
     "output_type": "stream",
     "text": [
      "[11.999999 10.500001  9.75      9.375     9.187501  9.093751  9.046875]\n"
     ]
    }
   ],
   "source": [
    "mean = model.mean()\n",
    "\n",
    "# due to the way TensorFlow works on a lower level we need to evaluate part of the graph\n",
    "# from within a session to see the value of this tensor\n",
    "\n",
    "# in the new version of tensorflow we need to use tf.compat.v1.Session() rather than just tf.Session()\n",
    "\n",
    "with tf.compat.v1.Session() as sess:\n",
    "    print(mean.numpy())"
   ]
  }
 ],
 "metadata": {
  "kernelspec": {
   "display_name": "Python 3 (ipykernel)",
   "language": "python",
   "name": "python3"
  },
  "language_info": {
   "codemirror_mode": {
    "name": "ipython",
    "version": 3
   },
   "file_extension": ".py",
   "mimetype": "text/x-python",
   "name": "python",
   "nbconvert_exporter": "python",
   "pygments_lexer": "ipython3",
   "version": "3.11.2"
  }
 },
 "nbformat": 4,
 "nbformat_minor": 5
}
