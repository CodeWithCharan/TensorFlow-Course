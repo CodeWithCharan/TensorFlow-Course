{
 "cells": [
  {
   "cell_type": "code",
   "execution_count": 1,
   "id": "897ec806",
   "metadata": {},
   "outputs": [],
   "source": [
    "import tensorflow as tf"
   ]
  },
  {
   "cell_type": "markdown",
   "id": "7f3cfcdb",
   "metadata": {},
   "source": [
    "## Let's see how to define different tensors"
   ]
  },
  {
   "cell_type": "code",
   "execution_count": 4,
   "id": "cabd5ae0",
   "metadata": {},
   "outputs": [],
   "source": [
    "strings = tf.Variable(\"This is a string\", tf.string)\n",
    "intergers = tf.Variable(108, tf.int16)\n",
    "floating = tf.Variable(69.69, tf.float64)"
   ]
  },
  {
   "cell_type": "markdown",
   "id": "328ca3c7",
   "metadata": {},
   "source": [
    "## Rank/Degree of Tensors"
   ]
  },
  {
   "cell_type": "code",
   "execution_count": 6,
   "id": "e653014a",
   "metadata": {},
   "outputs": [],
   "source": [
    "# Rank/Degree 0 Tensor\n",
    "rank0_tensor = tf.Variable(\"Rank 0 Tensor\", tf.string)"
   ]
  },
  {
   "cell_type": "code",
   "execution_count": 7,
   "id": "3d96d70f",
   "metadata": {},
   "outputs": [
    {
     "data": {
      "text/plain": [
       "<tf.Tensor: shape=(), dtype=int32, numpy=0>"
      ]
     },
     "execution_count": 7,
     "metadata": {},
     "output_type": "execute_result"
    }
   ],
   "source": [
    "tf.rank(rank0_tensor)"
   ]
  },
  {
   "cell_type": "code",
   "execution_count": 10,
   "id": "8a97823f",
   "metadata": {},
   "outputs": [],
   "source": [
    "# Rank/Degree 1 Tensor\n",
    "rank1_tensor = tf.Variable([\"Rank 1 Tensor\"], [\"Rank 1 Tesnor\"], tf.string)"
   ]
  },
  {
   "cell_type": "code",
   "execution_count": 11,
   "id": "45269004",
   "metadata": {},
   "outputs": [
    {
     "data": {
      "text/plain": [
       "<tf.Tensor: shape=(), dtype=int32, numpy=1>"
      ]
     },
     "execution_count": 11,
     "metadata": {},
     "output_type": "execute_result"
    }
   ],
   "source": [
    "tf.rank(rank1_tensor)"
   ]
  },
  {
   "cell_type": "code",
   "execution_count": 12,
   "id": "0faa9e4d",
   "metadata": {},
   "outputs": [],
   "source": [
    "# Rank/Degree 2 Tensor\n",
    "rank2_tensor = tf.Variable([[\"Rank 2 Tensor\"],[\"Rank 2 Tensor\"]], tf.string)"
   ]
  },
  {
   "cell_type": "code",
   "execution_count": 13,
   "id": "28699026",
   "metadata": {},
   "outputs": [
    {
     "data": {
      "text/plain": [
       "<tf.Tensor: shape=(), dtype=int32, numpy=2>"
      ]
     },
     "execution_count": 13,
     "metadata": {},
     "output_type": "execute_result"
    }
   ],
   "source": [
    "tf.rank(rank2_tensor)"
   ]
  },
  {
   "cell_type": "code",
   "execution_count": 16,
   "id": "98273c61",
   "metadata": {},
   "outputs": [],
   "source": [
    "# And so on..."
   ]
  },
  {
   "cell_type": "markdown",
   "id": "22691865",
   "metadata": {},
   "source": [
    "## Changing shape"
   ]
  },
  {
   "cell_type": "code",
   "execution_count": 20,
   "id": "67d00f22",
   "metadata": {},
   "outputs": [],
   "source": [
    "shape1 = tf.ones([1,2,3])"
   ]
  },
  {
   "cell_type": "code",
   "execution_count": 21,
   "id": "4ad77b20",
   "metadata": {},
   "outputs": [
    {
     "name": "stdout",
     "output_type": "stream",
     "text": [
      "tf.Tensor(\n",
      "[[[1. 1. 1.]\n",
      "  [1. 1. 1.]]], shape=(1, 2, 3), dtype=float32)\n"
     ]
    }
   ],
   "source": [
    "print(shape1)"
   ]
  },
  {
   "cell_type": "code",
   "execution_count": 23,
   "id": "6d7b4aeb",
   "metadata": {},
   "outputs": [],
   "source": [
    "# Here,\n",
    "# 1 --> single list\n",
    "# 2 --> two rows\n",
    "# 3 --> three columns\n",
    "# i.e., (2x3) matrix"
   ]
  },
  {
   "cell_type": "code",
   "execution_count": 24,
   "id": "e7d81d09",
   "metadata": {},
   "outputs": [],
   "source": [
    "reshape1 = tf.reshape(shape1, [3,2,1])"
   ]
  },
  {
   "cell_type": "code",
   "execution_count": 25,
   "id": "1175adf7",
   "metadata": {},
   "outputs": [
    {
     "name": "stdout",
     "output_type": "stream",
     "text": [
      "tf.Tensor(\n",
      "[[[1.]\n",
      "  [1.]]\n",
      "\n",
      " [[1.]\n",
      "  [1.]]\n",
      "\n",
      " [[1.]\n",
      "  [1.]]], shape=(3, 2, 1), dtype=float32)\n"
     ]
    }
   ],
   "source": [
    "print(reshape1)"
   ]
  },
  {
   "cell_type": "code",
   "execution_count": 31,
   "id": "cbc005c3",
   "metadata": {},
   "outputs": [],
   "source": [
    "reshape2 = tf.reshape(shape1, [3, -1])"
   ]
  },
  {
   "cell_type": "code",
   "execution_count": 32,
   "id": "8bd55af9",
   "metadata": {},
   "outputs": [
    {
     "name": "stdout",
     "output_type": "stream",
     "text": [
      "tf.Tensor(\n",
      "[[1. 1.]\n",
      " [1. 1.]\n",
      " [1. 1.]], shape=(3, 2), dtype=float32)\n"
     ]
    }
   ],
   "source": [
    "print(reshape2)"
   ]
  },
  {
   "cell_type": "code",
   "execution_count": null,
   "id": "18187646",
   "metadata": {},
   "outputs": [],
   "source": []
  }
 ],
 "metadata": {
  "kernelspec": {
   "display_name": "Python 3 (ipykernel)",
   "language": "python",
   "name": "python3"
  },
  "language_info": {
   "codemirror_mode": {
    "name": "ipython",
    "version": 3
   },
   "file_extension": ".py",
   "mimetype": "text/x-python",
   "name": "python",
   "nbconvert_exporter": "python",
   "pygments_lexer": "ipython3",
   "version": "3.11.2"
  }
 },
 "nbformat": 4,
 "nbformat_minor": 5
}
